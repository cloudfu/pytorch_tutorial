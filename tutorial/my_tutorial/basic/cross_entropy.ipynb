{
 "cells": [
  {
   "cell_type": "markdown",
   "metadata": {},
   "source": [
    "F.cross_entropy计算交叉熵损失，代码为：\n",
    "\n",
    "loss=F.cross_entropy(out, y)\n",
    "\n",
    "其中out是网络输出的概率向量，y是真实标签，注意y是标量。使用这个函数时应该特别注意out是没有经过softmax处理过的。\n",
    "\n",
    "因为调用F.cross_entropy函数时会通过log_softmax和nll_loss来计算损失，也就是说使用F.cross_entropy函数时，程序会自动先对out进行softmax，再log，最后再计算nll_loss。\n",
    "\n",
    "换句话说，执行F.cross_entropy时，相当于执行以下代码：\n",
    "\n",
    "soft_out = F.softmax(out)\n",
    "\n",
    "log_soft_out = torch.log(soft_out)\n",
    "\n",
    "loss = F.nll_loss(log_soft_out, y)\n",
    "\n",
    "如果out是已经经过了softmax处理过的，则不能使用F.cross_entropy计算损失，而是通过F.nll_loss函数来计算：\n",
    "\n",
    "log_soft_out = torch.log(out)\n",
    "\n",
    "loss = F.nll_loss(log_soft_out, y)\n",
    "其中y也是标量。\n",
    "\n",
    "\n",
    "# https://blog.csdn.net/weixin_38314865/article/details/104487587\n"
   ]
  },
  {
   "cell_type": "code",
   "execution_count": 6,
   "metadata": {},
   "outputs": [
    {
     "name": "stdout",
     "output_type": "stream",
     "text": [
      "tensor([[1., 2., 3., 5., 5.],\n",
      "        [1., 2., 3., 4., 5.],\n",
      "        [1., 2., 3., 4., 5.]])\n",
      "soft_out: tensor([[0.0083, 0.0226, 0.0614, 0.4538, 0.4538],\n",
      "        [0.0117, 0.0317, 0.0861, 0.2341, 0.6364],\n",
      "        [0.0117, 0.0317, 0.0861, 0.2341, 0.6364]])\n",
      "log_soft_out: tensor([[-4.7900, -3.7900, -2.7900, -0.7900, -0.7900],\n",
      "        [-4.4519, -3.4519, -2.4519, -1.4519, -0.4519],\n",
      "        [-4.4519, -3.4519, -2.4519, -1.4519, -0.4519]])\n",
      "y: tensor([1, 1, 0])\n",
      "loss: tensor(3.8979)\n",
      "cross_entropy: tensor(3.8979)\n"
     ]
    }
   ],
   "source": [
    "import torch\n",
    "import numpy as np\n",
    "import torch.nn.functional as F\n",
    "\n",
    "# https://blog.csdn.net/weixin_38314865/article/details/104487587\n",
    "# https://blog.csdn.net/m0_38133212/article/details/88087206\n",
    "\n",
    "x = np.array([[1, 2,3,5,5],\n",
    "              [1, 2,3,4,5],\n",
    "              [1, 2,3,4,5]]).astype(np.float32)\n",
    "\n",
    "y = np.array([1, 2, 3])\n",
    "x = torch.from_numpy(x)\n",
    "y = torch.from_numpy(y).long()\n",
    "\n",
    "# cross_entropy处理过程\n",
    "# 1.soft_out = F.softmax(out)\n",
    "# 2.log_soft_out = torch.log(soft_out)\n",
    "# 3.loss = F.nll_loss(log_soft_out, y)\n",
    "\n",
    "print(x)\n",
    "# 1.进行softmax处理\n",
    "soft_out = F.softmax(x,dim=1)\n",
    "print(\"soft_out:\",soft_out)\n",
    "# soft_out: tensor([[0.0117, 0.0317, 0.0861, 0.2341, 0.6364],\n",
    "#         [0.0117, 0.0317, 0.0861, 0.2341, 0.6364],\n",
    "#         [0.0117, 0.0317, 0.0861, 0.2341, 0.6364]])\n",
    "\n",
    "# 2.进行以e为底的对数计算\n",
    "log_soft_out = torch.log(soft_out)\n",
    "print(\"log_soft_out:\",log_soft_out)\n",
    "print(\"y:\",y)\n",
    "# log_soft_out: tensor([[-4.4519, -3.4519, -2.4519, -1.4519, -0.4519],\n",
    "#         [-4.4519, -3.4519, -2.4519, -1.4519, -0.4519],\n",
    "#         [-4.4519, -3.4519, -2.4519, -1.4519, -0.4519]])\n",
    "\n",
    "# 3.根据标签取平均值\n",
    "# 假设标签是[0,1,2]，第一行取第0个元素，第二行取第1个，第三行取第2个，去掉负号，\n",
    "# 即[0.3168,3.3093,0.4701],求平均值，就可以得到损失值。\n",
    "# y是位置索引，定位到具体矩阵之后取绝对值之后再平均；\n",
    "loss = F.nll_loss(log_soft_out, y)\n",
    "print(\"loss:\",loss)\n",
    "# print(soft_out)\n",
    "# print(log_soft_out)\n",
    "# print(loss)\n",
    "# loss: tensor(3.7852)\n",
    "\n",
    "loss = F.cross_entropy(x, y)\n",
    "print(\"cross_entropy:\",loss)\n",
    "\n",
    "# import math\n",
    "# math.log(0.6364)\n"
   ]
  },
  {
   "cell_type": "code",
   "execution_count": null,
   "metadata": {},
   "outputs": [],
   "source": []
  }
 ],
 "metadata": {
  "interpreter": {
   "hash": "ce539a29b37cbf6656fb94dad7e012f544b2b648a7f96b4739717121bbe2a2ab"
  },
  "kernelspec": {
   "display_name": "Python 3.9.7 ('pytorch')",
   "language": "python",
   "name": "python3"
  },
  "language_info": {
   "codemirror_mode": {
    "name": "ipython",
    "version": 3
   },
   "file_extension": ".py",
   "mimetype": "text/x-python",
   "name": "python",
   "nbconvert_exporter": "python",
   "pygments_lexer": "ipython3",
   "version": "3.9.7"
  },
  "orig_nbformat": 4
 },
 "nbformat": 4,
 "nbformat_minor": 2
}
