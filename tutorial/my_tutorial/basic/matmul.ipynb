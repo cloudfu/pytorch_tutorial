{
 "cells": [
  {
   "cell_type": "markdown",
   "metadata": {},
   "source": [
    "### 矩阵的数量乘法\n",
    "矩阵直接和常量相乘，矩阵每个位置进行相乘即可；"
   ]
  },
  {
   "cell_type": "code",
   "execution_count": 3,
   "metadata": {},
   "outputs": [
    {
     "name": "stdout",
     "output_type": "stream",
     "text": [
      "[[ 2  4  6]\n",
      " [ 8 10 12]]\n"
     ]
    }
   ],
   "source": [
    "import numpy as np\n",
    "A = np.array([[1, 2, 3],\n",
    "              [4, 5, 6]])\n",
    "print(A*2)"
   ]
  },
  {
   "cell_type": "markdown",
   "metadata": {},
   "source": [
    "### 矩阵与矩阵的乘法\n",
    "仔细观察这个计算公式，我们总结出以下的一些要求和规律：<BR>\n",
    "1.左边矩阵的列数要和右边矩阵的行数相等 <BR>\n",
    "2.左边矩阵的行数决定了结果矩阵的行数 <BR>\n",
    "3 右边矩阵的列数决定了结果矩阵的列数<BR>"
   ]
  },
  {
   "cell_type": "code",
   "execution_count": 4,
   "metadata": {},
   "outputs": [
    {
     "name": "stdout",
     "output_type": "stream",
     "text": [
      "[[14]\n",
      " [32]\n",
      " [50]]\n",
      "[[14]\n",
      " [32]\n",
      " [50]]\n"
     ]
    }
   ],
   "source": [
    "import numpy as np\n",
    "A = np.array([[1, 2],\n",
    "              [3, 4],\n",
    "              [5, 6]])\n",
    "x = np.array([[4, 5]]).T\n",
    "\n",
    "print(np.dot(A, x))\n",
    "print(np.matmul(A,x))"
   ]
  },
  {
   "cell_type": "markdown",
   "metadata": {},
   "source": [
    "### 矩阵与向量的乘法\n",
    "1.向量可以在外面增加一维数据，例如：[2,3] -> [[2,3]] 转变为 1行2列"
   ]
  },
  {
   "cell_type": "code",
   "execution_count": 21,
   "metadata": {},
   "outputs": [
    {
     "name": "stdout",
     "output_type": "stream",
     "text": [
      "tensor([0., 1.])\n",
      "tensor([[0.0871, 0.5428, 0.3972, 0.3544],\n",
      "        [0.1492, 0.4471, 0.5002, 0.5413],\n",
      "        [0.1070, 0.6887, 0.4961, 0.4382]])\n"
     ]
    }
   ],
   "source": [
    "import torch\n",
    "A = torch.rand(size=(3,2))\n",
    "B = torch.rand(size=(2,4))\n",
    "a = torch.linspace(0,1,2)\n",
    "print(a)\n",
    "# print(torch.mul(A,B.T))\n",
    "print(torch.matmul(A,B))\n",
    "# print(np.matmul(A,x))"
   ]
  },
  {
   "cell_type": "code",
   "execution_count": null,
   "metadata": {},
   "outputs": [],
   "source": []
  }
 ],
 "metadata": {
  "interpreter": {
   "hash": "ce539a29b37cbf6656fb94dad7e012f544b2b648a7f96b4739717121bbe2a2ab"
  },
  "kernelspec": {
   "display_name": "Python 3.9.7 ('pytorch')",
   "language": "python",
   "name": "python3"
  },
  "language_info": {
   "codemirror_mode": {
    "name": "ipython",
    "version": 3
   },
   "file_extension": ".py",
   "mimetype": "text/x-python",
   "name": "python",
   "nbconvert_exporter": "python",
   "pygments_lexer": "ipython3",
   "version": "3.9.7"
  },
  "orig_nbformat": 4
 },
 "nbformat": 4,
 "nbformat_minor": 2
}
